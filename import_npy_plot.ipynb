{
 "cells": [
  {
   "cell_type": "code",
   "execution_count": 5,
   "metadata": {},
   "outputs": [
    {
     "name": "stdout",
     "output_type": "stream",
     "text": [
      "Shape of the data: (3, 256, 256)\n",
      "Data type of the data: uint8\n",
      "The loaded data does not seem to be in a correct color image format.\n"
     ]
    }
   ],
   "source": [
    "import numpy as np\n",
    "import matplotlib.pyplot as plt\n",
    "\n",
    "#use geo environment, don't use tensorflow_gpu environment\n",
    "# Load the .npy file which contains a color image\n",
    "data = np.load('./data/input_tile_0_0.npy')\n",
    "print(\"Shape of the data:\", data.shape)\n",
    "\n",
    "#depending on the channel placement, you may need to transpose data \n",
    "data = data.transpose((1, 2, 0))  # Change from (3, 256, 256) to (256, 256, 3)\n",
    "\n",
    "# Check if the data is in the correct shape\n",
    "if data.ndim == 3 and data.shape[2] == 3:\n",
    "    # Display the image\n",
    "    plt.imshow(data)\n",
    "    plt.axis('off')  # Hide the axis\n",
    "    plt.show()\n",
    "else:\n",
    "    print(\"The loaded data does not seem to be in a correct color image format.\")\n"
   ]
  },
  {
   "cell_type": "code",
   "execution_count": 3,
   "metadata": {},
   "outputs": [
    {
     "name": "stdout",
     "output_type": "stream",
     "text": [
      "(256, 256, 3)\n"
     ]
    }
   ],
   "source": [
    "print(data.shape)"
   ]
  },
  {
   "cell_type": "code",
   "execution_count": null,
   "metadata": {},
   "outputs": [],
   "source": []
  }
 ],
 "metadata": {
  "kernelspec": {
   "display_name": "geo",
   "language": "python",
   "name": "python3"
  },
  "language_info": {
   "codemirror_mode": {
    "name": "ipython",
    "version": 3
   },
   "file_extension": ".py",
   "mimetype": "text/x-python",
   "name": "python",
   "nbconvert_exporter": "python",
   "pygments_lexer": "ipython3",
   "version": "3.12.3"
  }
 },
 "nbformat": 4,
 "nbformat_minor": 2
}
